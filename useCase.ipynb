{
 "cells": [
  {
   "cell_type": "code",
   "execution_count": 24,
   "metadata": {},
   "outputs": [],
   "source": [
    "import redis\n",
    "import faker as fk\n",
    "import pandas\n",
    "import random\n",
    "fake = fk.Faker()\n",
    "\n",
    "# main client\n",
    "r = redis.Redis(host='localhost', port=6379, decode_responses=True)"
   ]
  },
  {
   "cell_type": "code",
   "execution_count": 31,
   "metadata": {},
   "outputs": [
    {
     "name": "stdout",
     "output_type": "stream",
     "text": [
      "HSET mac:0c:99:64:dc:be:25 ip 20.127.34.99 name walkerstephanie os windows\n"
     ]
    }
   ],
   "source": [
    "def make_rand_computer():\n",
    "    os = ['windows', 'macOS', 'linux']\n",
    "    return {\"ip\": fake.ipv4(), \"name\": fake.user_name(), \"os\": random.choice(os)}\n",
    "\n",
    "def make_rand_mac():\n",
    "    return fake.mac_address()\n",
    "\n",
    "def unravel_dict(dictionary):\n",
    "    return \" \".join([f\"{key} {value}\"for key,value in dictionary.items()])\n",
    "\n",
    "def add_computer(computer):\n",
    "    return f\"HSET mac:{make_rand_mac()} {unravel_dict(computer)}\"\n",
    "\n",
    "print(add_computer(make_rand_computer()))"
   ]
  },
  {
   "cell_type": "code",
   "execution_count": null,
   "metadata": {},
   "outputs": [
    {
     "data": {
      "text/plain": [
       "'ip 36.211.164.226 name dking os macOS'"
      ]
     },
     "execution_count": 28,
     "metadata": {},
     "output_type": "execute_result"
    }
   ],
   "source": []
  },
  {
   "cell_type": "code",
   "execution_count": null,
   "metadata": {},
   "outputs": [],
   "source": []
  }
 ],
 "metadata": {
  "kernelspec": {
   "display_name": "Python 3",
   "language": "python",
   "name": "python3"
  },
  "language_info": {
   "codemirror_mode": {
    "name": "ipython",
    "version": 3
   },
   "file_extension": ".py",
   "mimetype": "text/x-python",
   "name": "python",
   "nbconvert_exporter": "python",
   "pygments_lexer": "ipython3",
   "version": "3.9.6"
  }
 },
 "nbformat": 4,
 "nbformat_minor": 2
}
