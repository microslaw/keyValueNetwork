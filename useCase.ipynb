{
 "cells": [
  {
   "cell_type": "code",
   "execution_count": 1,
   "metadata": {},
   "outputs": [],
   "source": [
    "import redis\n",
    "import faker as fk\n",
    "import pandas\n",
    "import random\n",
    "fake = fk.Faker()\n",
    "\n",
    "# main client\n",
    "r = redis.Redis(host='localhost', port=6379, decode_responses=True)"
   ]
  },
  {
   "cell_type": "code",
   "execution_count": 2,
   "metadata": {},
   "outputs": [],
   "source": [
    "def make_rand_computer():\n",
    "    os = ['windows', 'macOS', 'linux']\n",
    "    return {\"ip\": fake.ipv4(), \"name\": fake.user_name(), \"os\": random.choice(os)}\n",
    "\n",
    "def make_rand_mac():\n",
    "    return fake.mac_address()\n",
    "\n",
    "def unravel_dict(dictionary):\n",
    "    return \" \".join([f\"{key} {value}\"for key,value in dictionary.items()])\n",
    "\n",
    "def add_computer(computer):\n",
    "    mac = make_rand_mac()\n",
    "    r.execute_command(f\"HSET mac:{mac} {unravel_dict(computer)}\")\n",
    "    r.execute_command(f\"HSET index.mac.by.ip {computer['ip']} {mac}\")\n",
    "   \n",
    "    macs = r.execute_command(\"HGETALL index.mac.by.ip\")\n",
    "    macs = macs[1::2]\n",
    "    macs.remove(mac)\n",
    "    for _ in range(4):\n",
    "        if macs == []:\n",
    "            break\n",
    "        connected = random.choice(macs)\n",
    "        r.execute_command(f\"SADD connections:{mac} {connected}\")\n",
    "        r.execute_command(f\"SADD connections:{connected} {mac}\")\n",
    "\n",
    "def initialize_content(n):\n",
    "    for _ in range(n):\n",
    "        add_computer(make_rand_computer())\n"
   ]
  },
  {
   "cell_type": "code",
   "execution_count": null,
   "metadata": {},
   "outputs": [],
   "source": [
    "def show_all_macs():\n",
    "    for key in r.scan_iter(\"mac:*\"):\n",
    "        print(key)\n",
    "    \n",
    "def show_all_computers():\n",
    "    for key in r.scan_iter(\"mac:*\"):\n",
    "        print(key)\n",
    "        print(r.execute_command(f\"HGETALL {key}\"))\n",
    "        \n",
    "def show_all_connections():\n",
    "    for key in r.scan_iter(\"mac:*\"):\n",
    "        mac = key[len(\"mac:\"):]\n",
    "        print(mac)\n",
    "        print(r.execute_command(f\"SMEMBERS connections:{mac}\"))\n",
    "        \n",
    "def change_ip(old_ip, new_ip):\n",
    "    r.execute_command(f\"WATCH index.mac.by.ip\")\n",
    "    mac_address = r.execute_command(f\"HGET index.mac.by.ip {old_ip}\")\n",
    "    r.execute_command(f\"MULTI\")\n",
    "    r.execute_command(f\"HSET index.mac.by.ip {new_ip} {mac_address}\")\n",
    "    r.execute_command(f\"HDEL index.mac.by.ip {old_ip}\")\n",
    "    r.execute_command(f\"HSET mac:{mac_address} ip {new_ip}\")\n",
    "    r.execute_command('PUBLISH', 'computer.logs', f\"IP of computer {mac_address} has changed from {old_ip} to {new_ip}\")\n",
    "    r.execute_command(f\"EXEC\")"
   ]
  },
  {
   "cell_type": "code",
   "execution_count": 9,
   "metadata": {},
   "outputs": [],
   "source": [
    "initialize_content(10)"
   ]
  },
  {
   "cell_type": "code",
   "execution_count": 12,
   "metadata": {},
   "outputs": [
    {
     "name": "stdout",
     "output_type": "stream",
     "text": [
      "mac:88:19:9e:a3:60:bf\n",
      "['ip', '119.22.49.00', 'name', 'dalereed', 'os', 'windows']\n",
      "mac:fc:6a:57:b0:50:0b\n",
      "['ip', '107.0.21.181', 'name', 'peterwalter', 'os', 'macOS']\n",
      "mac:ac:ab:82:9d:92:86\n",
      "['ip', '93.34.102.150', 'name', 'jeffrey80', 'os', 'windows']\n",
      "mac:e8:83:0a:3b:ad:79\n",
      "['ip', '171.198.171.109', 'name', 'buckmelinda', 'os', 'windows']\n",
      "mac:02:d6:de:0b:28:35\n",
      "['ip', '217.153.98.160', 'name', 'ilopez', 'os', 'linux']\n",
      "mac:32:ca:90:cd:ae:14\n",
      "['ip', '171.91.237.30', 'name', 'odickson', 'os', 'macOS']\n",
      "mac:9c:14:09:d8:94:64\n",
      "['ip', '88.53.130.15', 'name', 'janice64', 'os', 'windows']\n",
      "mac:2c:9a:6c:a3:b7:62\n",
      "['ip', '26.15.217.138', 'name', 'wilsonjohn', 'os', 'linux']\n",
      "mac:14:95:6c:58:d5:4d\n",
      "['ip', '194.134.86.131', 'name', 'dnichols', 'os', 'macOS']\n",
      "mac:e6:97:e8:94:1e:9f\n",
      "['ip', '44.34.140.187', 'name', 'averyeric', 'os', 'windows']\n"
     ]
    }
   ],
   "source": [
    "show_all_computers()"
   ]
  },
  {
   "cell_type": "code",
   "execution_count": 11,
   "metadata": {},
   "outputs": [],
   "source": [
    "change_ip(\"119.22.49.29\",\"119.22.49.00\")"
   ]
  },
  {
   "cell_type": "code",
   "execution_count": 6,
   "metadata": {},
   "outputs": [
    {
     "data": {
      "text/plain": [
       "True"
      ]
     },
     "execution_count": 6,
     "metadata": {},
     "output_type": "execute_result"
    }
   ],
   "source": [
    "r.flushdb()"
   ]
  }
 ],
 "metadata": {
  "kernelspec": {
   "display_name": "Python 3",
   "language": "python",
   "name": "python3"
  },
  "language_info": {
   "codemirror_mode": {
    "name": "ipython",
    "version": 3
   },
   "file_extension": ".py",
   "mimetype": "text/x-python",
   "name": "python",
   "nbconvert_exporter": "python",
   "pygments_lexer": "ipython3",
   "version": "3.12.0"
  }
 },
 "nbformat": 4,
 "nbformat_minor": 2
}
