{
 "cells": [
  {
   "cell_type": "code",
   "execution_count": 46,
   "metadata": {},
   "outputs": [],
   "source": [
    "import redis\n",
    "import faker as fk\n",
    "import pandas\n",
    "import random\n",
    "fake = fk.Faker()\n",
    "\n",
    "# main client\n",
    "r = redis.Redis(host='localhost', port=6380, decode_responses=True)"
   ]
  },
  {
   "cell_type": "code",
   "execution_count": 47,
   "metadata": {},
   "outputs": [],
   "source": [
    "def make_rand_computer():\n",
    "    os = ['windows', 'macOS', 'linux']\n",
    "    return {\"ip\": fake.ipv4(), \"name\": fake.user_name(), \"os\": random.choice(os)}\n",
    "\n",
    "def make_rand_mac():\n",
    "    return fake.mac_address()\n",
    "\n",
    "def unravel_dict(dictionary):\n",
    "    return \" \".join([f\"{key} {value}\"for key,value in dictionary.items()])\n",
    "\n",
    "def add_computer(computer):\n",
    "    mac = make_rand_mac()\n",
    "    r.execute_command(f\"HSET mac:{mac} {unravel_dict(computer)}\")\n",
    "    r.execute_command(f\"HSET index.mac.by.ip {computer['ip']} {mac}\")\n",
    "\n",
    "    macs = r.execute_command(\"HGETALL index.mac.by.ip\")\n",
    "    print(macs)\n",
    "    macs = macs[1::2]\n",
    "    macs.remove(mac)\n",
    "    for _ in range(4):\n",
    "        if macs == []:\n",
    "            break\n",
    "        connected = random.choice(macs)\n",
    "        r.execute_command(f\"SADD connections:{mac} {connected}\")\n",
    "        r.execute_command(f\"SADD connections:{connected} {mac}\")\n",
    "\n",
    "def initialize_content(n):\n",
    "    for _ in range(n):\n",
    "        add_computer(make_rand_computer())\n"
   ]
  },
  {
   "cell_type": "code",
   "execution_count": 48,
   "metadata": {},
   "outputs": [],
   "source": [
    "def show_all_macs():\n",
    "    for key in r.scan_iter(\"mac:*\"):\n",
    "        print(key)\n",
    "\n",
    "def show_all_computers():\n",
    "    for key in r.scan_iter(\"mac:*\"):\n",
    "        print(key)\n",
    "        print(r.execute_command(f\"HGETALL {key}\"))\n",
    "\n",
    "def show_all_connections():\n",
    "    for key in r.scan_iter(\"mac:*\"):\n",
    "        mac = key[len(\"mac:\"):]\n",
    "        print(mac)\n",
    "        print(r.execute_command(f\"SMEMBERS connections:{mac}\"))\n",
    "\n",
    "def change_ip(old_ip, new_ip):\n",
    "    r.execute_command(f\"WATCH index.mac.by.ip\")\n",
    "    mac_address = r.execute_command(f\"HGET index.mac.by.ip {old_ip}\")\n",
    "    r.execute_command(f\"MULTI\")\n",
    "    r.execute_command(f\"HSET index.mac.by.ip {new_ip} {mac_address}\")\n",
    "    r.execute_command(f\"HDEL index.mac.by.ip {old_ip}\")\n",
    "    r.execute_command(f\"HSET mac:{mac_address} ip {new_ip}\")\n",
    "    r.execute_command('PUBLISH', 'computer.logs', f\"IP of computer {mac_address} has changed from {old_ip} to {new_ip}\")\n",
    "    r.execute_command(f\"EXEC\")"
   ]
  },
  {
   "cell_type": "code",
   "execution_count": 49,
   "metadata": {},
   "outputs": [
    {
     "name": "stdout",
     "output_type": "stream",
     "text": [
      "['153.180.23.139', 'ea:a2:6a:4f:53:16']\n"
     ]
    }
   ],
   "source": [
    "initialize_content(1)"
   ]
  },
  {
   "cell_type": "code",
   "execution_count": 50,
   "metadata": {},
   "outputs": [
    {
     "name": "stdout",
     "output_type": "stream",
     "text": [
      "mac:ea:a2:6a:4f:53:16\n",
      "['ip', '153.180.23.139', 'name', 'williamjones', 'os', 'linux']\n"
     ]
    }
   ],
   "source": [
    "show_all_computers()"
   ]
  },
  {
   "cell_type": "code",
   "execution_count": 51,
   "metadata": {},
   "outputs": [],
   "source": [
    "change_ip(\"119.22.49.29\",\"119.22.49.00\")"
   ]
  },
  {
   "cell_type": "code",
   "execution_count": 52,
   "metadata": {},
   "outputs": [
    {
     "data": {
      "text/plain": [
       "True"
      ]
     },
     "execution_count": 52,
     "metadata": {},
     "output_type": "execute_result"
    }
   ],
   "source": [
    "r.flushdb()"
   ]
  },
  {
   "cell_type": "code",
   "execution_count": null,
   "metadata": {},
   "outputs": [],
   "source": []
  }
 ],
 "metadata": {
  "kernelspec": {
   "display_name": "Python 3",
   "language": "python",
   "name": "python3"
  },
  "language_info": {
   "codemirror_mode": {
    "name": "ipython",
    "version": 3
   },
   "file_extension": ".py",
   "mimetype": "text/x-python",
   "name": "python",
   "nbconvert_exporter": "python",
   "pygments_lexer": "ipython3",
   "version": "3.12.2"
  }
 },
 "nbformat": 4,
 "nbformat_minor": 2
}
