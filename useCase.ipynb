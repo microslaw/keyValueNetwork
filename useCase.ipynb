{
 "cells": [
  {
   "cell_type": "code",
   "execution_count": 66,
   "metadata": {},
   "outputs": [],
   "source": [
    "import redis\n",
    "import faker as fk\n",
    "import pandas\n",
    "import random\n",
    "fake = fk.Faker()\n",
    "\n",
    "# main client\n",
    "r = redis.Redis(host='localhost', port=6379, decode_responses=True)"
   ]
  },
  {
   "cell_type": "code",
   "execution_count": null,
   "metadata": {},
   "outputs": [
    {
     "name": "stdout",
     "output_type": "stream",
     "text": [
      "1c:98:60:a4:df:25\n",
      "be:ce:a3:08:f6:ed\n",
      "1c:98:60:a4:df:25\n",
      "be:ce:a3:08:f6:ed\n",
      "1c:98:60:a4:df:25\n",
      "be:ce:a3:08:f6:ed\n",
      "1c:98:60:a4:df:25\n",
      "be:ce:a3:08:f6:ed\n",
      "1e:c2:00:07:02:c5\n",
      "1c:98:60:a4:df:25\n",
      "1e:c2:00:07:02:c5\n",
      "be:ce:a3:08:f6:ed\n",
      "1e:c2:00:07:02:c5\n",
      "be:ce:a3:08:f6:ed\n",
      "1e:c2:00:07:02:c5\n",
      "1c:98:60:a4:df:25\n",
      "d8:7a:42:f2:ad:68\n",
      "be:ce:a3:08:f6:ed\n",
      "d8:7a:42:f2:ad:68\n",
      "be:ce:a3:08:f6:ed\n",
      "d8:7a:42:f2:ad:68\n",
      "1c:98:60:a4:df:25\n",
      "d8:7a:42:f2:ad:68\n",
      "1e:c2:00:07:02:c5\n",
      "5a:82:cf:47:0d:6a\n",
      "1e:c2:00:07:02:c5\n",
      "5a:82:cf:47:0d:6a\n",
      "be:ce:a3:08:f6:ed\n",
      "5a:82:cf:47:0d:6a\n",
      "be:ce:a3:08:f6:ed\n",
      "5a:82:cf:47:0d:6a\n",
      "d8:7a:42:f2:ad:68\n"
     ]
    }
   ],
   "source": [
    "def make_rand_computer():\n",
    "    os = ['windows', 'macOS', 'linux']\n",
    "    return {\"ip\": fake.ipv4(), \"name\": fake.user_name(), \"os\": random.choice(os)}\n",
    "\n",
    "def make_rand_mac():\n",
    "    return fake.mac_address()\n",
    "\n",
    "def unravel_dict(dictionary):\n",
    "    return \" \".join([f\"{key} {value}\"for key,value in dictionary.items()])\n",
    "\n",
    "def add_computer(computer):\n",
    "    mac = make_rand_mac()\n",
    "    r.execute_command(f\"HSET mac:{mac} {unravel_dict(computer)}\")\n",
    "    r.execute_command(f\"HSET index.mac.by.ip {computer['ip']} {mac}\")\n",
    "   \n",
    "    macs = r.execute_command(\"HGETALL index.mac.by.ip\")\n",
    "    macs = macs[1::2]\n",
    "    macs.remove(mac)\n",
    "    for _ in range(4):\n",
    "        if macs == []:\n",
    "            break\n",
    "        connected = random.choice(macs)\n",
    "        r.execute_command(f\"SADD connections:{mac} {connected}\")\n",
    "        r.execute_command(f\"SADD connections:{connected} {mac}\")\n",
    "        print(mac)\n",
    "        print(connected)\n",
    "\n",
    "def initialize_content(n):\n",
    "    for _ in range(n):\n",
    "        add_computer(make_rand_computer())\n",
    "\n"
   ]
  },
  {
   "cell_type": "code",
   "execution_count": 109,
   "metadata": {},
   "outputs": [
    {
     "name": "stdout",
     "output_type": "stream",
     "text": [
      "mac:be:ce:a3:08:f6:ed\n",
      "mac:1e:c2:00:07:02:c5\n",
      "mac:1c:98:60:a4:df:25\n",
      "mac:d8:7a:42:f2:ad:68\n",
      "mac:5a:82:cf:47:0d:6a\n"
     ]
    }
   ],
   "source": [
    "for key in r.scan_iter(\"mac:*\"):\n",
    "    print(key)"
   ]
  },
  {
   "cell_type": "code",
   "execution_count": 110,
   "metadata": {},
   "outputs": [
    {
     "data": {
      "text/plain": [
       "True"
      ]
     },
     "execution_count": 110,
     "metadata": {},
     "output_type": "execute_result"
    }
   ],
   "source": [
    "r.flushdb()"
   ]
  }
 ],
 "metadata": {
  "kernelspec": {
   "display_name": "Python 3",
   "language": "python",
   "name": "python3"
  },
  "language_info": {
   "codemirror_mode": {
    "name": "ipython",
    "version": 3
   },
   "file_extension": ".py",
   "mimetype": "text/x-python",
   "name": "python",
   "nbconvert_exporter": "python",
   "pygments_lexer": "ipython3",
   "version": "3.12.0"
  }
 },
 "nbformat": 4,
 "nbformat_minor": 2
}
