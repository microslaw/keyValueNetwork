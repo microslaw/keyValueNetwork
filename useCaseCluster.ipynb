{
 "cells": [
  {
   "cell_type": "code",
   "execution_count": 1,
   "metadata": {},
   "outputs": [],
   "source": [
    "from redis.cluster import RedisCluster\n",
    "import faker as fk\n",
    "import pandas\n",
    "import random\n",
    "fake = fk.Faker()\n",
    "\n",
    "rc = RedisCluster(host='localhost', port=6381, decode_responses=True)"
   ]
  },
  {
   "cell_type": "code",
   "execution_count": 2,
   "metadata": {},
   "outputs": [
    {
     "data": {
      "text/plain": [
       "{'127.0.0.1:6381': True, '127.0.0.1:6382': True, '127.0.0.1:6383': True}"
      ]
     },
     "execution_count": 2,
     "metadata": {},
     "output_type": "execute_result"
    }
   ],
   "source": [
    "# r.flushdb()\n",
    "rc.flushdb()"
   ]
  },
  {
   "cell_type": "code",
   "execution_count": 3,
   "metadata": {},
   "outputs": [],
   "source": [
    "def make_rand_computer():\n",
    "    os = ['windows', 'macOS', 'linux']\n",
    "    return {\"ip\": fake.ipv4(), \"name\": fake.user_name(), \"os\": random.choice(os)}\n",
    "\n",
    "def make_rand_mac():\n",
    "    return fake.mac_address()\n",
    "\n",
    "def unravel_dict(dictionary):\n",
    "    return \" \".join([f\"{key} {value}\"for key,value in dictionary.items()])\n",
    "\n",
    "def add_computer(computer):\n",
    "    mac = make_rand_mac()\n",
    "    # r.execute_command(f\"HSET mac:{mac} {unravel_dict(computer)}\")\n",
    "    rc.hset(f\"mac:{mac}\", mapping=computer)\n",
    "    # r.execute_command(f\"HSET index.mac.by.ip {computer['ip']} {mac}\")\n",
    "    rc.hset(\"index.mac.by.ip\", computer['ip'], mac)\n",
    "\n",
    "    # macs = r.execute_command(\"HGETALL index.mac.by.ip\")\n",
    "    macs = rc.hgetall(\"index.mac.by.ip\")\n",
    "    macs = list(macs.values())\n",
    "    macs.remove(mac)\n",
    "    for _ in range(4):\n",
    "        if macs == []:\n",
    "            break\n",
    "        connected = random.choice(macs)\n",
    "        # r.execute_command(f\"SADD connections:{mac} {connected}\")\n",
    "        rc.sadd(f\"connections:{mac}\", connected)\n",
    "        # r.execute_command(f\"SADD connections:{connected} {mac}\")\n",
    "        rc.sadd(f\"connections:{connected}\", mac)\n",
    "\n",
    "def initialize_content(n):\n",
    "    for _ in range(n):\n",
    "        add_computer(make_rand_computer())\n"
   ]
  },
  {
   "cell_type": "code",
   "execution_count": 4,
   "metadata": {},
   "outputs": [],
   "source": [
    "def show_all_macs():\n",
    "    # for key in r.scan_iter(\"mac:*\"):\n",
    "    for key in rc.scan_iter(\"mac:*\"):\n",
    "        print(key)\n",
    "\n",
    "def show_all_computers():\n",
    "    # for key in r.scan_iter(\"mac:*\"):\n",
    "    for key in rc.scan_iter(\"mac:*\"):\n",
    "        print(key)\n",
    "        # print(r.execute_command(f\"HGETALL {key}\"))\n",
    "        print(rc.hgetall(key))\n",
    "\n",
    "def show_all_connections():\n",
    "    # for key in r.scan_iter(\"mac:*\"):\n",
    "    for key in rc.scan_iter(\"mac:*\"):\n",
    "        mac = key[len(\"mac:\"):]\n",
    "        print(mac)\n",
    "        # print(r.execute_command(f\"SMEMBERS connections:{mac}\"))\n",
    "        print(rc.smembers(f\"connections:{mac}\"))\n",
    "\n",
    "def change_ip(old_ip, new_ip):\n",
    "    # r.execute_command(f\"WATCH index.mac.by.ip\")\n",
    "    rc.watch(\"index.mac.by.ip\")\n",
    "    # mac_address = r.execute_command(f\"HGET index.mac.by.ip {old_ip}\")\n",
    "    mac_address = rc.hget(\"index.mac.by.ip\", old_ip)\n",
    "    # r.execute_command(f\"MULTI\")\n",
    "    # pass\n",
    "    # r.execute_command(f\"HSET index.mac.by.ip {new_ip} {mac_address}\")\n",
    "    rc.hset(\"index.mac.by.ip\", new_ip, mac_address)\n",
    "    # r.execute_command(f\"HDEL index.mac.by.ip {old_ip}\")\n",
    "    rc.hdel(\"index.mac.by.ip\", old_ip)\n",
    "    # r.execute_command(f\"HSET mac:{mac_address} ip {new_ip}\")\n",
    "    rc.hset(f\"mac:{mac_address}\", \"ip\", new_ip)\n",
    "    # r.execute_command('PUBLISH', 'computer.logs', f\"IP of computer {mac_address} has changed from {old_ip} to {new_ip}\")\n",
    "    rc.publish('computer.logs', f\"IP of computer {mac_address} has changed from {old_ip} to {new_ip}\")\n",
    "    # r.execute_command(f\"EXEC\")\n",
    "    rc.unwatch()"
   ]
  },
  {
   "cell_type": "code",
   "execution_count": 5,
   "metadata": {},
   "outputs": [],
   "source": [
    "initialize_content(10)"
   ]
  },
  {
   "cell_type": "code",
   "execution_count": 6,
   "metadata": {},
   "outputs": [
    {
     "name": "stdout",
     "output_type": "stream",
     "text": [
      "mac:5a:d8:7c:d3:eb:78\n",
      "{'ip': '1.149.220.114', 'name': 'mark67', 'os': 'windows'}\n",
      "mac:46:36:b0:33:46:97\n",
      "{'ip': '109.180.81.112', 'name': 'nortonjustin', 'os': 'linux'}\n",
      "mac:00:d7:9f:ff:32:b9\n",
      "{'ip': '22.234.208.5', 'name': 'justin44', 'os': 'windows'}\n",
      "mac:58:a9:f7:82:82:db\n",
      "{'ip': '116.29.164.41', 'name': 'colleendickerson', 'os': 'linux'}\n",
      "mac:fc:01:6e:9d:f9:b1\n",
      "{'ip': '151.216.26.124', 'name': 'zpace', 'os': 'macOS'}\n",
      "mac:b8:a7:2e:b4:b7:f1\n",
      "{'ip': '193.113.71.237', 'name': 'samanthabaker', 'os': 'windows'}\n",
      "mac:d0:35:a1:97:b6:ff\n",
      "{'ip': '158.139.217.164', 'name': 'curtiscameron', 'os': 'macOS'}\n",
      "mac:0c:2c:e1:49:6c:a9\n",
      "{'ip': '44.34.174.156', 'name': 'brandtpatrick', 'os': 'linux'}\n",
      "mac:04:90:11:8c:9a:53\n",
      "{'ip': '66.222.100.43', 'name': 'wellsaustin', 'os': 'macOS'}\n",
      "mac:48:3f:68:5e:0c:69\n",
      "{'ip': '148.109.235.197', 'name': 'lucasjoseph', 'os': 'linux'}\n"
     ]
    }
   ],
   "source": [
    "show_all_computers()"
   ]
  },
  {
   "cell_type": "code",
   "execution_count": 7,
   "metadata": {},
   "outputs": [
    {
     "name": "stdout",
     "output_type": "stream",
     "text": [
      "{'ip': '1.149.220.114', 'name': 'mark67', 'os': 'windows'}\n"
     ]
    }
   ],
   "source": [
    "key = next(rc.scan_iter(\"mac:*\"))\n",
    "computer_dict = rc.hgetall(key)\n",
    "print(computer_dict)\n",
    "ip_to_change = computer_dict['ip']"
   ]
  },
  {
   "cell_type": "code",
   "execution_count": 8,
   "metadata": {},
   "outputs": [],
   "source": [
    "change_ip(ip_to_change,\"119.22.49.0\")"
   ]
  },
  {
   "cell_type": "code",
   "execution_count": 9,
   "metadata": {},
   "outputs": [
    {
     "name": "stdout",
     "output_type": "stream",
     "text": [
      "{'ip': '119.22.49.0', 'name': 'mark67', 'os': 'windows'}\n"
     ]
    }
   ],
   "source": [
    "computer_dict = rc.hgetall(key)\n",
    "print(computer_dict)\n",
    "ip_to_change = computer_dict['ip']"
   ]
  }
 ],
 "metadata": {
  "kernelspec": {
   "display_name": "Python 3",
   "language": "python",
   "name": "python3"
  },
  "language_info": {
   "codemirror_mode": {
    "name": "ipython",
    "version": 3
   },
   "file_extension": ".py",
   "mimetype": "text/x-python",
   "name": "python",
   "nbconvert_exporter": "python",
   "pygments_lexer": "ipython3",
   "version": "3.12.2"
  }
 },
 "nbformat": 4,
 "nbformat_minor": 2
}
